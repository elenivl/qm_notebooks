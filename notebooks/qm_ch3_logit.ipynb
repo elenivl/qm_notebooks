{
 "cells": [
  {
   "cell_type": "markdown",
   "metadata": {
    "id": "krs-Vs35u4p9"
   },
   "source": [
    "Ανέβασμα Βασης Δεδομένων"
   ]
  },
  {
   "cell_type": "code",
   "execution_count": 1,
   "metadata": {
    "colab": {
     "base_uri": "https://localhost:8080/",
     "height": 73
    },
    "id": "5Qf5D23mut7-",
    "outputId": "496e4c42-688c-464d-c718-d0b98fc96f0e"
   },
   "outputs": [
    {
     "data": {
      "text/html": [
       "\n",
       "     <input type=\"file\" id=\"files-b537cf65-ff68-4734-944d-0ab34cb591a8\" name=\"files[]\" multiple disabled\n",
       "        style=\"border:none\" />\n",
       "     <output id=\"result-b537cf65-ff68-4734-944d-0ab34cb591a8\">\n",
       "      Upload widget is only available when the cell has been executed in the\n",
       "      current browser session. Please rerun this cell to enable.\n",
       "      </output>\n",
       "      <script>// Copyright 2017 Google LLC\n",
       "//\n",
       "// Licensed under the Apache License, Version 2.0 (the \"License\");\n",
       "// you may not use this file except in compliance with the License.\n",
       "// You may obtain a copy of the License at\n",
       "//\n",
       "//      http://www.apache.org/licenses/LICENSE-2.0\n",
       "//\n",
       "// Unless required by applicable law or agreed to in writing, software\n",
       "// distributed under the License is distributed on an \"AS IS\" BASIS,\n",
       "// WITHOUT WARRANTIES OR CONDITIONS OF ANY KIND, either express or implied.\n",
       "// See the License for the specific language governing permissions and\n",
       "// limitations under the License.\n",
       "\n",
       "/**\n",
       " * @fileoverview Helpers for google.colab Python module.\n",
       " */\n",
       "(function(scope) {\n",
       "function span(text, styleAttributes = {}) {\n",
       "  const element = document.createElement('span');\n",
       "  element.textContent = text;\n",
       "  for (const key of Object.keys(styleAttributes)) {\n",
       "    element.style[key] = styleAttributes[key];\n",
       "  }\n",
       "  return element;\n",
       "}\n",
       "\n",
       "// Max number of bytes which will be uploaded at a time.\n",
       "const MAX_PAYLOAD_SIZE = 100 * 1024;\n",
       "\n",
       "function _uploadFiles(inputId, outputId) {\n",
       "  const steps = uploadFilesStep(inputId, outputId);\n",
       "  const outputElement = document.getElementById(outputId);\n",
       "  // Cache steps on the outputElement to make it available for the next call\n",
       "  // to uploadFilesContinue from Python.\n",
       "  outputElement.steps = steps;\n",
       "\n",
       "  return _uploadFilesContinue(outputId);\n",
       "}\n",
       "\n",
       "// This is roughly an async generator (not supported in the browser yet),\n",
       "// where there are multiple asynchronous steps and the Python side is going\n",
       "// to poll for completion of each step.\n",
       "// This uses a Promise to block the python side on completion of each step,\n",
       "// then passes the result of the previous step as the input to the next step.\n",
       "function _uploadFilesContinue(outputId) {\n",
       "  const outputElement = document.getElementById(outputId);\n",
       "  const steps = outputElement.steps;\n",
       "\n",
       "  const next = steps.next(outputElement.lastPromiseValue);\n",
       "  return Promise.resolve(next.value.promise).then((value) => {\n",
       "    // Cache the last promise value to make it available to the next\n",
       "    // step of the generator.\n",
       "    outputElement.lastPromiseValue = value;\n",
       "    return next.value.response;\n",
       "  });\n",
       "}\n",
       "\n",
       "/**\n",
       " * Generator function which is called between each async step of the upload\n",
       " * process.\n",
       " * @param {string} inputId Element ID of the input file picker element.\n",
       " * @param {string} outputId Element ID of the output display.\n",
       " * @return {!Iterable<!Object>} Iterable of next steps.\n",
       " */\n",
       "function* uploadFilesStep(inputId, outputId) {\n",
       "  const inputElement = document.getElementById(inputId);\n",
       "  inputElement.disabled = false;\n",
       "\n",
       "  const outputElement = document.getElementById(outputId);\n",
       "  outputElement.innerHTML = '';\n",
       "\n",
       "  const pickedPromise = new Promise((resolve) => {\n",
       "    inputElement.addEventListener('change', (e) => {\n",
       "      resolve(e.target.files);\n",
       "    });\n",
       "  });\n",
       "\n",
       "  const cancel = document.createElement('button');\n",
       "  inputElement.parentElement.appendChild(cancel);\n",
       "  cancel.textContent = 'Cancel upload';\n",
       "  const cancelPromise = new Promise((resolve) => {\n",
       "    cancel.onclick = () => {\n",
       "      resolve(null);\n",
       "    };\n",
       "  });\n",
       "\n",
       "  // Wait for the user to pick the files.\n",
       "  const files = yield {\n",
       "    promise: Promise.race([pickedPromise, cancelPromise]),\n",
       "    response: {\n",
       "      action: 'starting',\n",
       "    }\n",
       "  };\n",
       "\n",
       "  cancel.remove();\n",
       "\n",
       "  // Disable the input element since further picks are not allowed.\n",
       "  inputElement.disabled = true;\n",
       "\n",
       "  if (!files) {\n",
       "    return {\n",
       "      response: {\n",
       "        action: 'complete',\n",
       "      }\n",
       "    };\n",
       "  }\n",
       "\n",
       "  for (const file of files) {\n",
       "    const li = document.createElement('li');\n",
       "    li.append(span(file.name, {fontWeight: 'bold'}));\n",
       "    li.append(span(\n",
       "        `(${file.type || 'n/a'}) - ${file.size} bytes, ` +\n",
       "        `last modified: ${\n",
       "            file.lastModifiedDate ? file.lastModifiedDate.toLocaleDateString() :\n",
       "                                    'n/a'} - `));\n",
       "    const percent = span('0% done');\n",
       "    li.appendChild(percent);\n",
       "\n",
       "    outputElement.appendChild(li);\n",
       "\n",
       "    const fileDataPromise = new Promise((resolve) => {\n",
       "      const reader = new FileReader();\n",
       "      reader.onload = (e) => {\n",
       "        resolve(e.target.result);\n",
       "      };\n",
       "      reader.readAsArrayBuffer(file);\n",
       "    });\n",
       "    // Wait for the data to be ready.\n",
       "    let fileData = yield {\n",
       "      promise: fileDataPromise,\n",
       "      response: {\n",
       "        action: 'continue',\n",
       "      }\n",
       "    };\n",
       "\n",
       "    // Use a chunked sending to avoid message size limits. See b/62115660.\n",
       "    let position = 0;\n",
       "    do {\n",
       "      const length = Math.min(fileData.byteLength - position, MAX_PAYLOAD_SIZE);\n",
       "      const chunk = new Uint8Array(fileData, position, length);\n",
       "      position += length;\n",
       "\n",
       "      const base64 = btoa(String.fromCharCode.apply(null, chunk));\n",
       "      yield {\n",
       "        response: {\n",
       "          action: 'append',\n",
       "          file: file.name,\n",
       "          data: base64,\n",
       "        },\n",
       "      };\n",
       "\n",
       "      let percentDone = fileData.byteLength === 0 ?\n",
       "          100 :\n",
       "          Math.round((position / fileData.byteLength) * 100);\n",
       "      percent.textContent = `${percentDone}% done`;\n",
       "\n",
       "    } while (position < fileData.byteLength);\n",
       "  }\n",
       "\n",
       "  // All done.\n",
       "  yield {\n",
       "    response: {\n",
       "      action: 'complete',\n",
       "    }\n",
       "  };\n",
       "}\n",
       "\n",
       "scope.google = scope.google || {};\n",
       "scope.google.colab = scope.google.colab || {};\n",
       "scope.google.colab._files = {\n",
       "  _uploadFiles,\n",
       "  _uploadFilesContinue,\n",
       "};\n",
       "})(self);\n",
       "</script> "
      ],
      "text/plain": [
       "<IPython.core.display.HTML object>"
      ]
     },
     "metadata": {},
     "output_type": "display_data"
    },
    {
     "name": "stdout",
     "output_type": "stream",
     "text": [
      "Saving qm_moto1.csv to qm_moto1.csv\n"
     ]
    }
   ],
   "source": [
    "#upload of data\n",
    "from google.colab import files \n",
    "uploaded = files.upload()"
   ]
  },
  {
   "cell_type": "markdown",
   "metadata": {
    "id": "n6L40AfAvlOO"
   },
   "source": [
    "Εισάγονται οι απαραίτητες βιβλιοθήκες"
   ]
  },
  {
   "cell_type": "code",
   "execution_count": 152,
   "metadata": {
    "id": "veJ7sJ3hvmqb"
   },
   "outputs": [],
   "source": [
    "import pandas as pd\n",
    "import statsmodels.api as sm\n",
    "import scipy.stats as stats\n",
    "import numpy as np\n",
    "from scipy.stats import chi2\n",
    "import matplotlib.pyplot as plt"
   ]
  },
  {
   "cell_type": "markdown",
   "metadata": {
    "id": "cTg97p4_vIAG"
   },
   "source": [
    "Διαβάζουμε το αρχείο CSV και αποθηκεύουμε τα δεδομένα σε ένα DataFrame με το όνομα \"data\". Εκτυπώνονται οι πρώτες 5 γραμμές του Dataframe. Κρατάμε στην Βαση Δεδομένων, μόνο τις στήλες 'dif', 'distancexy', 'd3', 'platoon', 'over' που θα χρησιμοποιηθούν στην Λογιστική Παλινδρόμηση"
   ]
  },
  {
   "cell_type": "code",
   "execution_count": 143,
   "metadata": {
    "colab": {
     "base_uri": "https://localhost:8080/",
     "height": 206
    },
    "id": "F-GlwnI5z_DE",
    "outputId": "a9233326-f73b-4347-bf41-fed4e791a46d"
   },
   "outputs": [
    {
     "data": {
      "text/html": [
       "<div>\n",
       "<style scoped>\n",
       "    .dataframe tbody tr th:only-of-type {\n",
       "        vertical-align: middle;\n",
       "    }\n",
       "\n",
       "    .dataframe tbody tr th {\n",
       "        vertical-align: top;\n",
       "    }\n",
       "\n",
       "    .dataframe thead th {\n",
       "        text-align: right;\n",
       "    }\n",
       "</style>\n",
       "<table border=\"1\" class=\"dataframe\">\n",
       "  <thead>\n",
       "    <tr style=\"text-align: right;\">\n",
       "      <th></th>\n",
       "      <th>dif</th>\n",
       "      <th>distancexy</th>\n",
       "      <th>d3</th>\n",
       "      <th>over</th>\n",
       "      <th>Veh_ TypeM_1</th>\n",
       "      <th>platoon_1</th>\n",
       "      <th>Veh_ Type1_2</th>\n",
       "      <th>Veh_ Type1_3</th>\n",
       "      <th>Veh_ Type1_4</th>\n",
       "      <th>lane_1</th>\n",
       "    </tr>\n",
       "  </thead>\n",
       "  <tbody>\n",
       "    <tr>\n",
       "      <th>0</th>\n",
       "      <td>2.0</td>\n",
       "      <td>5.2</td>\n",
       "      <td>1.7</td>\n",
       "      <td>0</td>\n",
       "      <td>0</td>\n",
       "      <td>0</td>\n",
       "      <td>1</td>\n",
       "      <td>0</td>\n",
       "      <td>0</td>\n",
       "      <td>0</td>\n",
       "    </tr>\n",
       "    <tr>\n",
       "      <th>1</th>\n",
       "      <td>-6.0</td>\n",
       "      <td>6.6</td>\n",
       "      <td>1.7</td>\n",
       "      <td>0</td>\n",
       "      <td>0</td>\n",
       "      <td>0</td>\n",
       "      <td>1</td>\n",
       "      <td>0</td>\n",
       "      <td>0</td>\n",
       "      <td>1</td>\n",
       "    </tr>\n",
       "    <tr>\n",
       "      <th>2</th>\n",
       "      <td>-1.0</td>\n",
       "      <td>7.9</td>\n",
       "      <td>1.6</td>\n",
       "      <td>0</td>\n",
       "      <td>0</td>\n",
       "      <td>0</td>\n",
       "      <td>0</td>\n",
       "      <td>0</td>\n",
       "      <td>0</td>\n",
       "      <td>1</td>\n",
       "    </tr>\n",
       "    <tr>\n",
       "      <th>3</th>\n",
       "      <td>26.0</td>\n",
       "      <td>12.6</td>\n",
       "      <td>1.6</td>\n",
       "      <td>1</td>\n",
       "      <td>1</td>\n",
       "      <td>0</td>\n",
       "      <td>0</td>\n",
       "      <td>0</td>\n",
       "      <td>0</td>\n",
       "      <td>1</td>\n",
       "    </tr>\n",
       "    <tr>\n",
       "      <th>4</th>\n",
       "      <td>21.0</td>\n",
       "      <td>6.4</td>\n",
       "      <td>255.0</td>\n",
       "      <td>1</td>\n",
       "      <td>0</td>\n",
       "      <td>0</td>\n",
       "      <td>0</td>\n",
       "      <td>0</td>\n",
       "      <td>0</td>\n",
       "      <td>1</td>\n",
       "    </tr>\n",
       "  </tbody>\n",
       "</table>\n",
       "</div>"
      ],
      "text/plain": [
       "    dif  distancexy     d3  over  Veh_ TypeM_1  platoon_1  Veh_ Type1_2  \\\n",
       "0   2.0         5.2    1.7     0             0          0             1   \n",
       "1  -6.0         6.6    1.7     0             0          0             1   \n",
       "2  -1.0         7.9    1.6     0             0          0             0   \n",
       "3  26.0        12.6    1.6     1             1          0             0   \n",
       "4  21.0         6.4  255.0     1             0          0             0   \n",
       "\n",
       "   Veh_ Type1_3  Veh_ Type1_4  lane_1  \n",
       "0             0             0       0  \n",
       "1             0             0       1  \n",
       "2             0             0       1  \n",
       "3             0             0       1  \n",
       "4             0             0       1  "
      ]
     },
     "execution_count": 143,
     "metadata": {},
     "output_type": "execute_result"
    }
   ],
   "source": [
    "#Δημιουργία pandas dataframe\n",
    "data = pd.read_csv('qm_moto1.csv', delimiter=';')\n",
    "data= data[['dif','distancexy','d3','lane','platoon','Veh_ Type1','Veh_ TypeM','over']].copy()\n",
    "data['dif'] = pd.to_numeric(data.dif, downcast='float')\n",
    "\n",
    "\n",
    "data = pd.get_dummies(data, columns=['Veh_ TypeM', 'platoon','Veh_ Type1','lane'], drop_first=True)\n",
    "\n",
    "\n",
    "data.head()\n",
    "#data.dtypes\n"
   ]
  },
  {
   "cell_type": "markdown",
   "metadata": {
    "id": "CMZaeKK54-jW"
   },
   "source": [
    "Υπολογίζεται τα εκατοστημόρια (25%, 50% (διάμεσος), 75%), αριθμητικός μέσος, ελάχιστη-μέγιστη τιμή και τυπική απόκλιση των μεταβλητών που θα χρημοποιηθούν στην Λογιστική Παλινδρόμηση μέσω της εντολής describe() "
   ]
  },
  {
   "cell_type": "code",
   "execution_count": 144,
   "metadata": {
    "colab": {
     "base_uri": "https://localhost:8080/",
     "height": 300
    },
    "id": "ok2houRq2whP",
    "outputId": "b4f4cf6c-34ac-46ae-df3f-119536a60521"
   },
   "outputs": [
    {
     "data": {
      "text/html": [
       "<div>\n",
       "<style scoped>\n",
       "    .dataframe tbody tr th:only-of-type {\n",
       "        vertical-align: middle;\n",
       "    }\n",
       "\n",
       "    .dataframe tbody tr th {\n",
       "        vertical-align: top;\n",
       "    }\n",
       "\n",
       "    .dataframe thead th {\n",
       "        text-align: right;\n",
       "    }\n",
       "</style>\n",
       "<table border=\"1\" class=\"dataframe\">\n",
       "  <thead>\n",
       "    <tr style=\"text-align: right;\">\n",
       "      <th></th>\n",
       "      <th>dif</th>\n",
       "      <th>distancexy</th>\n",
       "      <th>d3</th>\n",
       "      <th>over</th>\n",
       "      <th>Veh_ TypeM_1</th>\n",
       "      <th>platoon_1</th>\n",
       "      <th>Veh_ Type1_2</th>\n",
       "      <th>Veh_ Type1_3</th>\n",
       "      <th>Veh_ Type1_4</th>\n",
       "      <th>lane_1</th>\n",
       "    </tr>\n",
       "  </thead>\n",
       "  <tbody>\n",
       "    <tr>\n",
       "      <th>count</th>\n",
       "      <td>833.000000</td>\n",
       "      <td>833.000000</td>\n",
       "      <td>833.000000</td>\n",
       "      <td>833.000000</td>\n",
       "      <td>833.000000</td>\n",
       "      <td>833.000000</td>\n",
       "      <td>833.000000</td>\n",
       "      <td>833.000000</td>\n",
       "      <td>833.000000</td>\n",
       "      <td>833.000000</td>\n",
       "    </tr>\n",
       "    <tr>\n",
       "      <th>mean</th>\n",
       "      <td>16.312124</td>\n",
       "      <td>6.800000</td>\n",
       "      <td>71.154382</td>\n",
       "      <td>0.630252</td>\n",
       "      <td>0.386555</td>\n",
       "      <td>0.120048</td>\n",
       "      <td>0.224490</td>\n",
       "      <td>0.028812</td>\n",
       "      <td>0.075630</td>\n",
       "      <td>0.529412</td>\n",
       "    </tr>\n",
       "    <tr>\n",
       "      <th>std</th>\n",
       "      <td>14.476556</td>\n",
       "      <td>3.797016</td>\n",
       "      <td>112.996394</td>\n",
       "      <td>0.483026</td>\n",
       "      <td>0.487253</td>\n",
       "      <td>0.325213</td>\n",
       "      <td>0.417497</td>\n",
       "      <td>0.167377</td>\n",
       "      <td>0.264564</td>\n",
       "      <td>0.499434</td>\n",
       "    </tr>\n",
       "    <tr>\n",
       "      <th>min</th>\n",
       "      <td>-25.000000</td>\n",
       "      <td>1.200000</td>\n",
       "      <td>0.100000</td>\n",
       "      <td>0.000000</td>\n",
       "      <td>0.000000</td>\n",
       "      <td>0.000000</td>\n",
       "      <td>0.000000</td>\n",
       "      <td>0.000000</td>\n",
       "      <td>0.000000</td>\n",
       "      <td>0.000000</td>\n",
       "    </tr>\n",
       "    <tr>\n",
       "      <th>25%</th>\n",
       "      <td>6.000000</td>\n",
       "      <td>3.900000</td>\n",
       "      <td>1.300000</td>\n",
       "      <td>0.000000</td>\n",
       "      <td>0.000000</td>\n",
       "      <td>0.000000</td>\n",
       "      <td>0.000000</td>\n",
       "      <td>0.000000</td>\n",
       "      <td>0.000000</td>\n",
       "      <td>0.000000</td>\n",
       "    </tr>\n",
       "    <tr>\n",
       "      <th>50%</th>\n",
       "      <td>14.000000</td>\n",
       "      <td>5.800000</td>\n",
       "      <td>1.700000</td>\n",
       "      <td>1.000000</td>\n",
       "      <td>0.000000</td>\n",
       "      <td>0.000000</td>\n",
       "      <td>0.000000</td>\n",
       "      <td>0.000000</td>\n",
       "      <td>0.000000</td>\n",
       "      <td>1.000000</td>\n",
       "    </tr>\n",
       "    <tr>\n",
       "      <th>75%</th>\n",
       "      <td>25.000000</td>\n",
       "      <td>9.000000</td>\n",
       "      <td>255.000000</td>\n",
       "      <td>1.000000</td>\n",
       "      <td>1.000000</td>\n",
       "      <td>0.000000</td>\n",
       "      <td>0.000000</td>\n",
       "      <td>0.000000</td>\n",
       "      <td>0.000000</td>\n",
       "      <td>1.000000</td>\n",
       "    </tr>\n",
       "    <tr>\n",
       "      <th>max</th>\n",
       "      <td>82.000000</td>\n",
       "      <td>31.700000</td>\n",
       "      <td>255.000000</td>\n",
       "      <td>1.000000</td>\n",
       "      <td>1.000000</td>\n",
       "      <td>1.000000</td>\n",
       "      <td>1.000000</td>\n",
       "      <td>1.000000</td>\n",
       "      <td>1.000000</td>\n",
       "      <td>1.000000</td>\n",
       "    </tr>\n",
       "  </tbody>\n",
       "</table>\n",
       "</div>"
      ],
      "text/plain": [
       "              dif  distancexy          d3        over  Veh_ TypeM_1  \\\n",
       "count  833.000000  833.000000  833.000000  833.000000    833.000000   \n",
       "mean    16.312124    6.800000   71.154382    0.630252      0.386555   \n",
       "std     14.476556    3.797016  112.996394    0.483026      0.487253   \n",
       "min    -25.000000    1.200000    0.100000    0.000000      0.000000   \n",
       "25%      6.000000    3.900000    1.300000    0.000000      0.000000   \n",
       "50%     14.000000    5.800000    1.700000    1.000000      0.000000   \n",
       "75%     25.000000    9.000000  255.000000    1.000000      1.000000   \n",
       "max     82.000000   31.700000  255.000000    1.000000      1.000000   \n",
       "\n",
       "        platoon_1  Veh_ Type1_2  Veh_ Type1_3  Veh_ Type1_4      lane_1  \n",
       "count  833.000000    833.000000    833.000000    833.000000  833.000000  \n",
       "mean     0.120048      0.224490      0.028812      0.075630    0.529412  \n",
       "std      0.325213      0.417497      0.167377      0.264564    0.499434  \n",
       "min      0.000000      0.000000      0.000000      0.000000    0.000000  \n",
       "25%      0.000000      0.000000      0.000000      0.000000    0.000000  \n",
       "50%      0.000000      0.000000      0.000000      0.000000    1.000000  \n",
       "75%      0.000000      0.000000      0.000000      0.000000    1.000000  \n",
       "max      1.000000      1.000000      1.000000      1.000000    1.000000  "
      ]
     },
     "execution_count": 144,
     "metadata": {},
     "output_type": "execute_result"
    }
   ],
   "source": [
    "#Στατιστικά στοιχεία μεταβλητών\n",
    "data.describe()"
   ]
  },
  {
   "cell_type": "markdown",
   "metadata": {
    "id": "VLFMN5kk7glV"
   },
   "source": [
    "Δημιουργία πίνακα ενδεχομένων δύο κατευθύνσεων μεταξύ της εξαρτημένης ('over') και ανεξάρτητης ('platoon') κατηγορικής μεταβλητής "
   ]
  },
  {
   "cell_type": "code",
   "execution_count": 145,
   "metadata": {
    "colab": {
     "base_uri": "https://localhost:8080/"
    },
    "id": "5fn4Pew77Mgq",
    "outputId": "8fefdcd1-2171-4ac3-d94b-6300b71ea02b"
   },
   "outputs": [
    {
     "name": "stdout",
     "output_type": "stream",
     "text": [
      "over         0    1\n",
      "platoon_1          \n",
      "0          265  468\n",
      "1           43   57\n"
     ]
    }
   ],
   "source": [
    "#Δημιουργία πίνακα ενδεχομένων δύο κατευθύνσεων\n",
    "contingency_table = pd.crosstab(data['platoon_1'], data['over'])\n",
    "print(contingency_table)"
   ]
  },
  {
   "cell_type": "markdown",
   "metadata": {
    "id": "KrhK3103CM9H"
   },
   "source": [
    "Δημιουργία προτύπου Λογιστικής Παλινδρόμησης"
   ]
  },
  {
   "cell_type": "code",
   "execution_count": 146,
   "metadata": {
    "colab": {
     "base_uri": "https://localhost:8080/"
    },
    "id": "AETURfK4Ab0f",
    "outputId": "d1ad8edd-101a-4511-d79e-0a8ad3f7f9b6"
   },
   "outputs": [
    {
     "name": "stdout",
     "output_type": "stream",
     "text": [
      "Optimization terminated successfully.\n",
      "         Current function value: 0.325498\n",
      "         Iterations 8\n",
      "                           Logit Regression Results                           \n",
      "==============================================================================\n",
      "Dep. Variable:                   over   No. Observations:                  833\n",
      "Model:                          Logit   Df Residuals:                      829\n",
      "Method:                           MLE   Df Model:                            3\n",
      "Date:                Fri, 02 Jun 2023   Pseudo R-squ.:                  0.5059\n",
      "Time:                        13:16:28   Log-Likelihood:                -271.14\n",
      "converged:                       True   LL-Null:                       -548.80\n",
      "Covariance Type:            nonrobust   LLR p-value:                4.894e-120\n",
      "==============================================================================\n",
      "                 coef    std err          z      P>|z|      [0.025      0.975]\n",
      "------------------------------------------------------------------------------\n",
      "const         -0.4357      0.259     -1.681      0.093      -0.944       0.072\n",
      "dif            0.2120      0.016     13.270      0.000       0.181       0.243\n",
      "distancexy    -0.2833      0.032     -8.735      0.000      -0.347      -0.220\n",
      "d3             0.0041      0.001      3.861      0.000       0.002       0.006\n",
      "==============================================================================\n"
     ]
    }
   ],
   "source": [
    "#Ορισμός εξαρτημένης μεταβλητής\n",
    "y = data['over']\n",
    "\n",
    "#Ορισμός ανεξάρτητων μεταβλητών\n",
    "cols=['dif','distancexy','d3'] \n",
    "X=data[cols]\n",
    "\n",
    "#X = data.drop(['over'], axis=1)\n",
    "#Δημιουργία σταθερού όρου\n",
    "X = sm.add_constant(X)\n",
    "\n",
    "#Δημιουργία Λογιστικής Παλινδρόμησης και εκτύπωση αποτελεσμάτων\n",
    "logit_model = sm.Logit(y, X)\n",
    "result = logit_model.fit()\n",
    "print(result.summary())"
   ]
  },
  {
   "cell_type": "markdown",
   "metadata": {
    "id": "H_xN5luZCVOr"
   },
   "source": [
    "Το πρότυπο Λογιστικής Παλινδρόμησης πέτυχε μια σχετικά χαμηλή τιμή της συνάρτησης logit 0,325201, γεγονός που υποδηλώνει καλή προσαρμογή μεταξύ των προβλεπόμενων πιθανοτήτων και των παρατηρούμενων δυαδικών αποτελεσμάτων.Το πρότυπο Λογιστικής παλινδρόμησης χρησιμοποιεί τέσσερις ανεξάρτητες μεταβλητές: \"dif\", \"distancexy\", \"d3\" και \"platoon\". Μεταξύ αυτών των μεταβλητών, η \"dif\" είχε την πιο ουσιαστική επίδραση στην εξαρτημένη μεταβλητή, όπως υποδεικνύεται από τον συντελεστή 0,2119 και τη τιμή p-value 0,000. Αυτό υποδηλώνει ότι όσο αυξάνεται η μεταβλητή \"dif\", αυξάνεται και η πιθανότητα της εξαρτημένης μεταβλητής \"over\". Ομοίως, η ανεξάρτητη μεταβλητή \"distancexy\" παρουσίασε αρνητική σχέση με την εξαρτημένη μεταβλητή, όπως φαίνεται από τον συντελεστή της -0,2826. Η μεταβλητή \"d3\" είχε επίσης μικρή θετική επίδραση, με συντελεστή 0,0041. Ωστόσο, η ανεξάρτητη μεταβλητή \"platoon\" δεν παρουσίασε σημαντική σχέση με την εξαρτημένη μεταβλητή, καθώς ο συντελεστής της -0,2317 είχε p-value 0,481, υποδηλώνοντας μη σημαντικότητα. Συνολικά, το μοντέλο έδωσε μια σχετικά υψηλή τιμή ψευδοτετραγώνου R 0,5064, υποδεικνύοντας ότι οι ανεξάρτητες μεταβλητές εξηγούν συλλογικά ένα σημαντικό μέρος της διακύμανσης της εξαρτημένης μεταβλητής."
   ]
  },
  {
   "cell_type": "markdown",
   "metadata": {
    "id": "RB12kM1BId0y"
   },
   "source": [
    "Υπολογισμός στατιστικών υπολειμμάτων απόκλισης "
   ]
  },
  {
   "cell_type": "code",
   "execution_count": 147,
   "metadata": {
    "colab": {
     "base_uri": "https://localhost:8080/"
    },
    "id": "JwuNIH45IO8m",
    "outputId": "8559caac-6447-49d8-8541-6adbd3479bf1"
   },
   "outputs": [
    {
     "name": "stdout",
     "output_type": "stream",
     "text": [
      "Στατιστικά υπολείμματα απόκλισης:\n",
      "Ελάχιστο: -14.515871256577991\n",
      "Εκατοστημόριο (25%): 1.630921821490598\n",
      "Διάμεσος:  4.453967154064639\n",
      "Εκατοστημόριο (75%): 7.585085184590713\n",
      "Μέγιστο: 29.581914147865128\n"
     ]
    }
   ],
   "source": [
    "# Υπολογισμός πιθανοτήτων αποτελέσματος\n",
    "predicted_probs = result.predict(X)\n",
    "\n",
    "# Υπολογισμός υπολειμμάτων απόκλισης\n",
    "deviance_resid = 2 * (y * np.log(predicted_probs / (1 - predicted_probs)) + (1 - y) * np.log((1 - predicted_probs) / predicted_probs))\n",
    "\n",
    "# Υπολογισμός στατιστικών υπολειμμάτων απόκλισης \n",
    "deviance_resid_stats = np.percentile(deviance_resid, [0, 25, 50, 75, 100])\n",
    "print(\"Στατιστικά υπολείμματα απόκλισης:\")\n",
    "print(\"Ελάχιστο:\", deviance_resid_stats[0])\n",
    "print(\"Εκατοστημόριο (25%):\", deviance_resid_stats[1])\n",
    "print(\"Διάμεσος: \", deviance_resid_stats[2])\n",
    "print(\"Εκατοστημόριο (75%):\", deviance_resid_stats[3])\n",
    "print(\"Μέγιστο:\", deviance_resid_stats[4])"
   ]
  },
  {
   "cell_type": "markdown",
   "metadata": {
    "id": "0SQvQaAnJuAQ"
   },
   "source": [
    "Το ελάχιστο υπόλειμμα απόκλισης -14,4468 υποδηλώνει την παρουσία τουλάχιστον μίας παρατήρησης με σημαντικά χαμηλότερο παρατηρούμενο αποτέλεσμα από αυτό που προβλέπει το πρότυπο. Η τιμή του 1ου τεταρτημορίου 1,7053 υποδηλώνει ότι το ένα τέταρτο των υπολειμμάτων απόκλισης είναι κάτω από αυτή την τιμή, υποδηλώνοντας σχετικά καλή προσαρμογή για ένα μέρος των παρατηρήσεων.Επιπλέον, η τιμή του 3ου τεταρτημορίου 7,5272 υποδηλώνει ότι η πλειοψηφία των υπολειμμάτων απόκλισης είναι κάτω από αυτή την τιμή, υποδηλώνοντας επίσης σχετικά καλή προσαρμογή για τις περισσότερες παρατηρήσεις. Ωστόσο, το μέγιστο υπόλοιπο απόκλισης 29,1565 υποδεικνύει την παρουσία τουλάχιστον μιας παρατήρησης με σημαντικά υψηλότερο παρατηρούμενο αποτέλεσμα από το προβλεπόμενο. Συνολικά, το εύρος των υπολειμμάτων απόκλισης υποδηλώνει μεταβλητότητα στην ικανότητα του προτύπου να εξηγεί τα παρατηρούμενα αποτελέσματα."
   ]
  },
  {
   "cell_type": "code",
   "execution_count": 148,
   "metadata": {
    "colab": {
     "base_uri": "https://localhost:8080/"
    },
    "id": "cMbZbCw3Lfqz",
    "outputId": "c69eda68-f02c-4b98-a25a-289b6441e322"
   },
   "outputs": [
    {
     "name": "stdout",
     "output_type": "stream",
     "text": [
      "AIC: 550.28\n"
     ]
    }
   ],
   "source": [
    "# Calculate AIC\n",
    "aic = result.aic\n",
    "print(\"AIC:\", round(aic,3))"
   ]
  },
  {
   "cell_type": "markdown",
   "metadata": {
    "id": "4mVD2iicOJ-B"
   },
   "source": [
    "Η τιμή AIC, η οποία συνδυάζει την καλή προσαρμογή και την πολυπλοκότητα του προτύπου, υπολογίστηκε σε 551,784. Χαμηλότερη τιμή AIC υποδηλώνει ένα πρότυπο καλύτερης προσαρμογής με καλή ισορροπία μεταξύ της προσαρμογής του προτύπου και της απλότητας. Αυτή η τιμή AIC υποδεικνύει ότι το τρέχον πρότυπο λογιστικής παλινδρόμησης είναι σχετικά ικανοποιητικό όσον αφορά τόσο την προβλεπτική του ικανότητα όσο και τον αριθμό των εμπλεκόμενων παραμέτρων."
   ]
  },
  {
   "cell_type": "markdown",
   "metadata": {
    "id": "gY3m3E5j2uR-"
   },
   "source": [
    "Υπολογισμός των odds-ratios και των αντίστοιχων διαστημάτων εμπιστοσύνης"
   ]
  },
  {
   "cell_type": "code",
   "execution_count": 149,
   "metadata": {
    "colab": {
     "base_uri": "https://localhost:8080/"
    },
    "id": "613xOB0mfoh1",
    "outputId": "99dd6145-4a3f-4eb7-9ac4-549cbad757ce"
   },
   "outputs": [
    {
     "name": "stdout",
     "output_type": "stream",
     "text": [
      "               OR     2.5%  97.5%\n",
      "const        0.6468 0.38916 1.075\n",
      "dif          1.2361 1.19803 1.275\n",
      "distancexy   0.7533 0.70686 0.803\n",
      "d3           1.0041 1.00204 1.006\n"
     ]
    }
   ],
   "source": [
    "# Εξάγουμε τους συντελεστές και τα τυπικά σφάλματα\n",
    "coef = result.params\n",
    "std_err = result.bse\n",
    "\n",
    "# Εκθετικοποιούμε τους συντελεστές\n",
    "odds_ratios = np.exp(coef)\n",
    "\n",
    "# Υπολογισμός του ανώτερου και κατώτερου ορίου με 95% διάστημα εμπιστοσύνης\n",
    "ci_lower = np.exp(coef - 1.96 * std_err)\n",
    "ci_upper = np.exp(coef + 1.96 * std_err)\n",
    "\n",
    "# Εκτύπωση αποτελεσμάτων\n",
    "print(\"               OR     2.5%  97.5%\")\n",
    "for i in range(len(coef)):\n",
    "    predictor_variable = result.params.index[i]\n",
    "    odds_ratio = odds_ratios[i]\n",
    "    lower_bound = ci_lower[i]\n",
    "    upper_bound = ci_upper[i]\n",
    "    print(f\"{predictor_variable:<12} {odds_ratio:.4f} {lower_bound:.5f} {upper_bound:.3f}\")"
   ]
  },
  {
   "cell_type": "markdown",
   "metadata": {
    "id": "ooVhDlT3gYT4"
   },
   "source": [
    "Με βάση τα παραπάνω αποτελέσματα μπορούμε να πούμε ότι για μια αύξηση του dif κατά μία μονάδα, οι πιθανότητες να γίνει προσπέραση (σε σχέση με το να μην γίνει) αυξάνονται κατά 1,23 φορές. Επιπλέον, ενα ευρύτερο διάστημα εμπιστοσύνης υποδηλώνει μεγαλύτερη αβεβαιότητα, ενώ ένα στενότερο διάστημα υποδηλώνει ακριβέστερη εκτίμηση."
   ]
  },
  {
   "cell_type": "markdown",
   "metadata": {
    "id": "ZxQGdsBHMkZJ"
   },
   "source": [
    "Υπολογισμός των εκτιμώμενων πιθανοτήτων"
   ]
  },
  {
   "cell_type": "code",
   "execution_count": 150,
   "metadata": {
    "colab": {
     "base_uri": "https://localhost:8080/"
    },
    "id": "qHgOcAWSkznN",
    "outputId": "fe397cae-eaed-496c-b2a7-3b367c95613b"
   },
   "outputs": [
    {
     "name": "stdout",
     "output_type": "stream",
     "text": [
      " Δείγμα 1: Εκτιμώμενη πιθανότητα = 0.1857\n",
      " Δείγμα 2: Εκτιμώμενη πιθανότητα = 0.0274\n",
      " Δείγμα 3: Εκτιμώμενη πιθανότητα = 0.0532\n",
      " Δείγμα 4: Εκτιμώμενη πιθανότητα = 0.8194\n",
      " Δείγμα 5: Εκτιμώμενη πιθανότητα = 0.9629\n"
     ]
    }
   ],
   "source": [
    "# Υπολογισμός των εκτιμώμενων πιθανοτήτων\n",
    "predicted_probabilities = result.predict(X)\n",
    "\n",
    "# Εκτύπωση των 5 πρώτων αποτελεσμάτων\n",
    "for i in range(5):\n",
    "    prob = predicted_probabilities[i]\n",
    "    print(f\" Δείγμα {i+1}: Εκτιμώμενη πιθανότητα = {prob:.4f}\")"
   ]
  },
  {
   "cell_type": "code",
   "execution_count": 159,
   "metadata": {},
   "outputs": [
    {
     "data": {
      "image/png": "[encoded data removed]",
      "text/plain": [
       "<Figure size 500x500 with 1 Axes>"
      ]
     },
     "metadata": {},
     "output_type": "display_data"
    },
    {
     "data": {
      "image/png": "[encoded data removed]",
      "text/plain": [
       "<Figure size 500x500 with 1 Axes>"
      ]
     },
     "metadata": {},
     "output_type": "display_data"
    },
    {
     "data": {
      "image/png": "[encoded data removed]",
      "text/plain": [
       "<Figure size 500x500 with 1 Axes>"
      ]
     },
     "metadata": {},
     "output_type": "display_data"
    }
   ],
   "source": [
    "# Υπολογισμός των μέσων τιμών των dif, distancexy και d3\n",
    "mean_dif = np.mean(data['dif'])\n",
    "mean_distancexy = np.mean(data['distancexy'])\n",
    "mean_d3 = np.mean(data['d3'])\n",
    "\n",
    "# Δημιουργία ενός DataFrame με τις μέσες τιμές των dif, distancexy και d3 και ένα εύρος τιμών για την αντίστοιχη μεταβλητή\n",
    "dif_range = np.linspace(data['dif'].min(), data['dif'].max(), 100)\n",
    "distancexy_range = np.linspace(data['distancexy'].min(), data['distancexy'].max(), 100)\n",
    "d3_range = np.linspace(data['d3'].min(), data['d3'].max(), 100)\n",
    "\n",
    "df_new_dif = pd.DataFrame({'const': np.ones(len(dif_range)),\n",
    "                           'dif': dif_range,\n",
    "                           'distancexy': mean_distancexy,\n",
    "                           'd3': mean_d3})\n",
    "\n",
    "df_new_distancexy = pd.DataFrame({'const': np.ones(len(distancexy_range)),\n",
    "                                  'dif': mean_dif,\n",
    "                                  'distancexy': distancexy_range,\n",
    "                                  'd3': mean_d3})\n",
    "\n",
    "df_new_d3 = pd.DataFrame({'const': np.ones(len(d3_range)),\n",
    "                          'dif': mean_dif,\n",
    "                          'distancexy': mean_distancexy,\n",
    "                          'd3': d3_range})\n",
    "\n",
    "# Χρήση του προσαρμοσμένου μοντέλου λογιστικής παλινδρόμησης για την πρόβλεψη πιθανοτήτων για τα νέα DataFrames\n",
    "predicted_probs_dif = result.predict(df_new_dif)\n",
    "predicted_probs_distancexy = result.predict(df_new_distancexy)\n",
    "predicted_probs_d3 = result.predict(df_new_d3)\n",
    "\n",
    "# Υπολογισμός του κατώτερου ορίου (LL) και του ανώτερου ορίου (UL) για τις εκτιμώμενες πιθανότητες\n",
    "z = 1.96  # Τιμή Z για διάστημα εμπιστοσύνης 95%\n",
    "se_dif = np.sqrt(predicted_probs_dif * (1 - predicted_probs_dif) / len(data))  # Τυπικό σφάλμα για το dif\n",
    "se_distancexy = np.sqrt(predicted_probs_distancexy * (1 - predicted_probs_distancexy) / len(data))  # Τυπικό σφάλμα για το distancexy\n",
    "se_d3 = np.sqrt(predicted_probs_d3 * (1 - predicted_probs_d3) / len(data))  # Τυπικό σφάλμα για το d3\n",
    "\n",
    "ll_dif = predicted_probs_dif - z * se_dif  # Κατώτερο όριο για dif\n",
    "ul_dif = predicted_probs_dif + z * se_dif  # Ανώτατο όριο για dif\n",
    "\n",
    "ll_distancexy = predicted_probs_distancexy - z * se_distancexy  # Κατώτερο όριο για distancexy\n",
    "ul_distancexy = predicted_probs_distancexy + z * se_distancexy  # Ανώτατο όριο για  distancexy\n",
    "\n",
    "ll_d3 = predicted_probs_d3 - z * se_d3  # Κατώτερο όριο για d3\n",
    "ul_d3 = predicted_probs_d3 + z * se_d3  # Ανώτατο όριο για d3\n",
    "\n",
    "# Διάγραμμα για dif\n",
    "plt.rcParams['figure.figsize'] = [5, 5]\n",
    "plt.plot(df_new_dif['dif'], predicted_probs_dif, label='Εκτιμώμενη πιθανότητα')\n",
    "plt.fill_between(df_new_dif['dif'], ll_dif, ul_dif, alpha=0.3, label='Διάστημα εμπιστοσύνης 95%')\n",
    "plt.xlabel('dif')\n",
    "plt.ylabel('Εκτιμώμενη πιθανότητα')\n",
    "#plt.legend()\n",
    "#plt.title('Εκτιμώμενες πιθανότητες για dif με 95% διάστημα εμπιστοσύνης')\n",
    "plt.show()\n",
    "\n",
    "# Διάγραμμα για distancexy\n",
    "plt.plot(df_new_distancexy['distancexy'], predicted_probs_distancexy, label='Εκτιμώμενη πιθανότητα')\n",
    "plt.fill_between(df_new_distancexy['distancexy'], ll_distancexy, ul_distancexy, alpha=0.3, label='Διάστημα εμπιστοσύνης 95%')\n",
    "plt.xlabel('distancexy')\n",
    "plt.ylabel('Εκτιμώμενη πιθανότητα')\n",
    "#plt.legend()\n",
    "#plt.title('Εκτιμώμενες πιθανότητες για distanexy με 95% διάστημα εμπιστοσύνης')\n",
    "plt.show()\n",
    "\n",
    "# Διάγραμμα για d3\n",
    "plt.plot(df_new_d3['d3'], predicted_probs_d3, label='Εκτιμώμενη πιθανότητα')\n",
    "plt.fill_between(df_new_d3['d3'], ll_d3, ul_d3, alpha=0.3, label='Διάστημα εμπιστοσύνης 95%')\n",
    "plt.xlabel('d3')\n",
    "plt.ylabel('Εκτιμώμενη πιθανότητα')\n",
    "#plt.legend()\n",
    "#plt.title('Εκτιμώμενη πιθανότητα για d3 με 95% διάστημα εμπιστοσύνης')\n",
    "plt.show()"
   ]
  },
  {
   "cell_type": "markdown",
   "metadata": {
    "id": "tBQ5iYtyPioi"
   },
   "source": [
    "Υπολογισμός μετρικών του προτύπου"
   ]
  },
  {
   "cell_type": "code",
   "execution_count": 141,
   "metadata": {
    "colab": {
     "base_uri": "https://localhost:8080/"
    },
    "id": "kSIqZ8m1NG6P",
    "outputId": "2d166a01-a32b-4630-9c0f-af004ca39e83"
   },
   "outputs": [
    {
     "name": "stdout",
     "output_type": "stream",
     "text": [
      "Διαφορά στην απόκλιση των δυο προτύπων: 555.3160716117596\n",
      "Βαθμοί ελευθερίας για διαφορά των μοντέλων: 3\n",
      "P-value: 0.0\n",
      "Λογαριθμική Πιθανότητα: -271.14016710263667\n"
     ]
    }
   ],
   "source": [
    "# Υπολογισμός της διαφοράς στην απόκλιση μεταξύ του μηδενικού προτύπου και του τρέχοντος προτύπου\n",
    "diff_deviance = null_deviance- residual_deviance\n",
    "print(\"Διαφορά στην απόκλιση των δυο προτύπων:\", diff_deviance)\n",
    "\n",
    "# Υπολογισμός των βαθμών ελευθερίας για τη διαφορά μεταξύ των δύο μοντέλων\n",
    "df_difference = df_null - df_resid\n",
    "print(\"Βαθμοί ελευθερίας για διαφορά των μοντέλων:\", df_difference)\n",
    "\n",
    "# Υπολογισμός της τιμής p-value χρησιμοποιώντας την κατανομή chi-square\n",
    "p_value = 1 - stats.chi2.cdf(diff_deviance, df_difference)\n",
    "print(\"P-value:\", p_value)\n",
    "\n",
    "# Εκτύπωση της λογαριθμικής πιθανότητας του προτύπου\n",
    "print(\"Λογαριθμική Πιθανότητα:\", result.llf)"
   ]
  },
  {
   "cell_type": "markdown",
   "metadata": {
    "id": "PWqTIBEYPGe3"
   },
   "source": [
    "Τα αποτελέσματα υποδεικνύουν σημαντική βελτίωση της προσαρμογής του προτύπου κατά τη σύγκριση του τρέχοντος προτύπου λογιστικής παλινδρόμησης με ένα μηδενικό μοντέλο. Η διαφορά στην απόκλιση 555,812 και η τιμή p-value 0,0 υποδηλώνουν μια εξαιρετικά σημαντική βελτίωση. Οι βαθμοί ελευθερίας για τη διαφορά είναι 4 όσες και οι ανεξάρτητες μεταβλητές. Επιπλέον, η σχετικά υψηλή λογαριθμική πιθανότητα -270,892 υποδηλώνει καλύτερη πρόβλεψη των παρατηρούμενων δεδομένων. Συνεπώς, το τρέχον πρότυπο παρέχει σημαντικά καλύτερη προσαρμογή στα δεδομένα σε σύγκριση με το μηδενικό πρότυπο."
   ]
  }
 ],
 "metadata": {
  "colab": {
   "provenance": []
  },
  "kernelspec": {
   "display_name": "Python 3 (ipykernel)",
   "language": "python",
   "name": "python3"
  },
  "language_info": {
   "codemirror_mode": {
    "name": "ipython",
    "version": 3
   },
   "file_extension": ".py",
   "mimetype": "text/x-python",
   "name": "python",
   "nbconvert_exporter": "python",
   "pygments_lexer": "ipython3",
   "version": "3.10.9"
  }
 },
 "nbformat": 4,
 "nbformat_minor": 1
}
