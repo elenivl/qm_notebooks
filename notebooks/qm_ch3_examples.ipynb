{
 "cells": [
  {
   "cell_type": "markdown",
   "metadata": {
    "id": "SnpBeAdgXzji"
   },
   "source": [
    "Εισάγονται οι απαραίτητες βιβλιοθήκες"
   ]
  },
  {
   "cell_type": "code",
   "execution_count": 1,
   "metadata": {
    "id": "fBlNh56LSxkb"
   },
   "outputs": [],
   "source": [
    "import pandas as pd\n",
    "import numpy as np\n",
    "import matplotlib.pyplot as plt\n",
    "import scipy.stats as stats\n",
    "from scipy.stats import ttest_1samp\n",
    "from statsmodels.stats.proportion import proportions_ztest\n",
    "import math\n",
    "import seaborn as sns"
   ]
  },
  {
   "cell_type": "markdown",
   "metadata": {
    "id": "hlXPeUkaVIYG"
   },
   "source": [
    "# EXAMPLE 3.1"
   ]
  },
  {
   "cell_type": "markdown",
   "metadata": {
    "id": "dFMtgD54Ue56"
   },
   "source": [
    "Διαβάζουμε το αρχείο CSV και αποθηκεύουμε τα δεδομένα σε ένα DataFrame με το όνομα \"data\". Εκτυπώνονται οι πρώτες 5 γραμμές του Dataframe. Η βάση δεδομένων περιέχει στοιχεία οδηγικής συμπεριφοράς (μέση ταχύτητα και επιτάχυνση) καθώς και την κατανάλωση καυσίμου, από ένα πείραμα πραγματικής οδήγησης. Κρατάμε στην Βαση Δεδομένων, μόνο τις στήλες 'identifier', 'trip_id', 'speed_avg' και 'obd_fuel_consumption'"
   ]
  },
  {
   "cell_type": "code",
   "execution_count": 2,
   "metadata": {
    "colab": {
     "base_uri": "https://localhost:8080/",
     "height": 206
    },
    "id": "QVhOoXyqLyzp",
    "outputId": "aee558b6-8638-4b7a-9159-ebd138f46d6a"
   },
   "outputs": [
    {
     "data": {
      "text/html": [
       "<div>\n",
       "<style scoped>\n",
       "    .dataframe tbody tr th:only-of-type {\n",
       "        vertical-align: middle;\n",
       "    }\n",
       "\n",
       "    .dataframe tbody tr th {\n",
       "        vertical-align: top;\n",
       "    }\n",
       "\n",
       "    .dataframe thead th {\n",
       "        text-align: right;\n",
       "    }\n",
       "</style>\n",
       "<table border=\"1\" class=\"dataframe\">\n",
       "  <thead>\n",
       "    <tr style=\"text-align: right;\">\n",
       "      <th></th>\n",
       "      <th>identifier</th>\n",
       "      <th>trip_id</th>\n",
       "      <th>speed_avg</th>\n",
       "      <th>speed_urban_avg</th>\n",
       "      <th>speed_highway_avg</th>\n",
       "      <th>speed_rural_avg</th>\n",
       "      <th>duration</th>\n",
       "      <th>duration_urban</th>\n",
       "      <th>duration_highway</th>\n",
       "      <th>duration_rural</th>\n",
       "      <th>duration_driving</th>\n",
       "      <th>duration_driving_urban</th>\n",
       "      <th>duration_driving_highway</th>\n",
       "      <th>duration_driving_rural</th>\n",
       "      <th>distance_total</th>\n",
       "      <th>distance_urban</th>\n",
       "      <th>distance_highway</th>\n",
       "      <th>distance_rural</th>\n",
       "      <th>obd_fuel_consumption</th>\n",
       "    </tr>\n",
       "  </thead>\n",
       "  <tbody>\n",
       "    <tr>\n",
       "      <th>0</th>\n",
       "      <td>ecodriver008</td>\n",
       "      <td>0138DDB9-DBC9-417B-8D1F-BA0BF9661D8A</td>\n",
       "      <td>45.496765</td>\n",
       "      <td>39.420000</td>\n",
       "      <td>0.0</td>\n",
       "      <td>46.669474</td>\n",
       "      <td>136.0</td>\n",
       "      <td>22.0</td>\n",
       "      <td>0.0</td>\n",
       "      <td>114.0</td>\n",
       "      <td>136.0</td>\n",
       "      <td>22.0</td>\n",
       "      <td>0.0</td>\n",
       "      <td>114.0</td>\n",
       "      <td>1.702810</td>\n",
       "      <td>0.245095</td>\n",
       "      <td>0.0</td>\n",
       "      <td>1.457715</td>\n",
       "      <td>5.982437</td>\n",
       "    </tr>\n",
       "    <tr>\n",
       "      <th>1</th>\n",
       "      <td>ecodriver008</td>\n",
       "      <td>03C8082E-C4E1-47E5-ACDF-FAF37E6BEAA2</td>\n",
       "      <td>37.094610</td>\n",
       "      <td>33.016790</td>\n",
       "      <td>0.0</td>\n",
       "      <td>45.074519</td>\n",
       "      <td>2901.0</td>\n",
       "      <td>1947.0</td>\n",
       "      <td>0.0</td>\n",
       "      <td>954.0</td>\n",
       "      <td>2676.0</td>\n",
       "      <td>1771.0</td>\n",
       "      <td>0.0</td>\n",
       "      <td>905.0</td>\n",
       "      <td>27.514834</td>\n",
       "      <td>16.169600</td>\n",
       "      <td>0.0</td>\n",
       "      <td>11.345234</td>\n",
       "      <td>5.818384</td>\n",
       "    </tr>\n",
       "    <tr>\n",
       "      <th>2</th>\n",
       "      <td>ecodriver008</td>\n",
       "      <td>0A5A2AF6-8142-4AF6-86E5-02480E48BCCB</td>\n",
       "      <td>32.299333</td>\n",
       "      <td>28.117895</td>\n",
       "      <td>0.0</td>\n",
       "      <td>34.237073</td>\n",
       "      <td>220.0</td>\n",
       "      <td>57.0</td>\n",
       "      <td>0.0</td>\n",
       "      <td>163.0</td>\n",
       "      <td>180.0</td>\n",
       "      <td>57.0</td>\n",
       "      <td>0.0</td>\n",
       "      <td>123.0</td>\n",
       "      <td>1.597838</td>\n",
       "      <td>0.418554</td>\n",
       "      <td>0.0</td>\n",
       "      <td>1.179283</td>\n",
       "      <td>7.118644</td>\n",
       "    </tr>\n",
       "    <tr>\n",
       "      <th>3</th>\n",
       "      <td>ecodriver008</td>\n",
       "      <td>0C8608D1-E139-4BB1-AF4E-75E70831B74E</td>\n",
       "      <td>30.675505</td>\n",
       "      <td>29.952238</td>\n",
       "      <td>0.0</td>\n",
       "      <td>32.059028</td>\n",
       "      <td>1058.0</td>\n",
       "      <td>761.0</td>\n",
       "      <td>0.0</td>\n",
       "      <td>297.0</td>\n",
       "      <td>769.0</td>\n",
       "      <td>505.0</td>\n",
       "      <td>0.0</td>\n",
       "      <td>264.0</td>\n",
       "      <td>6.520763</td>\n",
       "      <td>4.148670</td>\n",
       "      <td>0.0</td>\n",
       "      <td>2.372093</td>\n",
       "      <td>6.401732</td>\n",
       "    </tr>\n",
       "    <tr>\n",
       "      <th>4</th>\n",
       "      <td>ecodriver008</td>\n",
       "      <td>1684BBC5-8E38-4BE0-928D-BFB0C059A75D</td>\n",
       "      <td>28.343428</td>\n",
       "      <td>32.533519</td>\n",
       "      <td>0.0</td>\n",
       "      <td>26.750013</td>\n",
       "      <td>240.0</td>\n",
       "      <td>74.0</td>\n",
       "      <td>0.0</td>\n",
       "      <td>166.0</td>\n",
       "      <td>196.0</td>\n",
       "      <td>54.0</td>\n",
       "      <td>0.0</td>\n",
       "      <td>142.0</td>\n",
       "      <td>1.512159</td>\n",
       "      <td>0.473162</td>\n",
       "      <td>0.0</td>\n",
       "      <td>1.038997</td>\n",
       "      <td>6.044678</td>\n",
       "    </tr>\n",
       "  </tbody>\n",
       "</table>\n",
       "</div>"
      ],
      "text/plain": [
       "     identifier                               trip_id  speed_avg  \\\n",
       "0  ecodriver008  0138DDB9-DBC9-417B-8D1F-BA0BF9661D8A  45.496765   \n",
       "1  ecodriver008  03C8082E-C4E1-47E5-ACDF-FAF37E6BEAA2  37.094610   \n",
       "2  ecodriver008  0A5A2AF6-8142-4AF6-86E5-02480E48BCCB  32.299333   \n",
       "3  ecodriver008  0C8608D1-E139-4BB1-AF4E-75E70831B74E  30.675505   \n",
       "4  ecodriver008  1684BBC5-8E38-4BE0-928D-BFB0C059A75D  28.343428   \n",
       "\n",
       "   speed_urban_avg  speed_highway_avg  speed_rural_avg  duration  \\\n",
       "0        39.420000                0.0        46.669474     136.0   \n",
       "1        33.016790                0.0        45.074519    2901.0   \n",
       "2        28.117895                0.0        34.237073     220.0   \n",
       "3        29.952238                0.0        32.059028    1058.0   \n",
       "4        32.533519                0.0        26.750013     240.0   \n",
       "\n",
       "   duration_urban  duration_highway  duration_rural  duration_driving  \\\n",
       "0            22.0               0.0           114.0             136.0   \n",
       "1          1947.0               0.0           954.0            2676.0   \n",
       "2            57.0               0.0           163.0             180.0   \n",
       "3           761.0               0.0           297.0             769.0   \n",
       "4            74.0               0.0           166.0             196.0   \n",
       "\n",
       "   duration_driving_urban  duration_driving_highway  duration_driving_rural  \\\n",
       "0                    22.0                       0.0                   114.0   \n",
       "1                  1771.0                       0.0                   905.0   \n",
       "2                    57.0                       0.0                   123.0   \n",
       "3                   505.0                       0.0                   264.0   \n",
       "4                    54.0                       0.0                   142.0   \n",
       "\n",
       "   distance_total  distance_urban  distance_highway  distance_rural  \\\n",
       "0        1.702810        0.245095               0.0        1.457715   \n",
       "1       27.514834       16.169600               0.0       11.345234   \n",
       "2        1.597838        0.418554               0.0        1.179283   \n",
       "3        6.520763        4.148670               0.0        2.372093   \n",
       "4        1.512159        0.473162               0.0        1.038997   \n",
       "\n",
       "   obd_fuel_consumption  \n",
       "0              5.982437  \n",
       "1              5.818384  \n",
       "2              7.118644  \n",
       "3              6.401732  \n",
       "4              6.044678  "
      ]
     },
     "execution_count": 2,
     "metadata": {},
     "output_type": "execute_result"
    }
   ],
   "source": [
    "data = pd.read_csv('qm_sfc.csv')\n",
    "data= data[['identifier', 'trip_id', 'speed_avg','speed_urban_avg','speed_highway_avg','speed_rural_avg', 'duration','duration_urban', 'duration_highway', 'duration_rural', 'duration_driving', 'duration_driving_urban', 'duration_driving_highway', 'duration_driving_rural', 'distance_total','distance_urban', 'distance_highway', 'distance_rural','obd_fuel_consumption']].copy()\n",
    "data.head()"
   ]
  },
  {
   "cell_type": "raw",
   "metadata": {
    "id": "jsEY4xwMUv3h"
   },
   "source": [
    "Από το DataFrame \"data\" εξάγουμε δύο στήλες και δημιουργούμε ένα νέο DataFrame με το όνομα \"speed_data\". Εκτυπώνονται οι πρώτες 5 γραμμές του Dataframe."
   ]
  },
  {
   "cell_type": "code",
   "execution_count": 3,
   "metadata": {
    "colab": {
     "base_uri": "https://localhost:8080/",
     "height": 206
    },
    "id": "QamkX3puUlat",
    "outputId": "170b5e2b-2db7-4ea8-cc4f-d606a6310180"
   },
   "outputs": [
    {
     "data": {
      "text/html": [
       "<div>\n",
       "<style scoped>\n",
       "    .dataframe tbody tr th:only-of-type {\n",
       "        vertical-align: middle;\n",
       "    }\n",
       "\n",
       "    .dataframe tbody tr th {\n",
       "        vertical-align: top;\n",
       "    }\n",
       "\n",
       "    .dataframe thead th {\n",
       "        text-align: right;\n",
       "    }\n",
       "</style>\n",
       "<table border=\"1\" class=\"dataframe\">\n",
       "  <thead>\n",
       "    <tr style=\"text-align: right;\">\n",
       "      <th></th>\n",
       "      <th>speed_avg</th>\n",
       "      <th>speed_urban_avg</th>\n",
       "    </tr>\n",
       "  </thead>\n",
       "  <tbody>\n",
       "    <tr>\n",
       "      <th>0</th>\n",
       "      <td>45.496765</td>\n",
       "      <td>39.420000</td>\n",
       "    </tr>\n",
       "    <tr>\n",
       "      <th>1</th>\n",
       "      <td>37.094610</td>\n",
       "      <td>33.016790</td>\n",
       "    </tr>\n",
       "    <tr>\n",
       "      <th>2</th>\n",
       "      <td>32.299333</td>\n",
       "      <td>28.117895</td>\n",
       "    </tr>\n",
       "    <tr>\n",
       "      <th>3</th>\n",
       "      <td>30.675505</td>\n",
       "      <td>29.952238</td>\n",
       "    </tr>\n",
       "    <tr>\n",
       "      <th>4</th>\n",
       "      <td>28.343428</td>\n",
       "      <td>32.533519</td>\n",
       "    </tr>\n",
       "  </tbody>\n",
       "</table>\n",
       "</div>"
      ],
      "text/plain": [
       "   speed_avg  speed_urban_avg\n",
       "0  45.496765        39.420000\n",
       "1  37.094610        33.016790\n",
       "2  32.299333        28.117895\n",
       "3  30.675505        29.952238\n",
       "4  28.343428        32.533519"
      ]
     },
     "execution_count": 3,
     "metadata": {},
     "output_type": "execute_result"
    }
   ],
   "source": [
    "speed_data = data[['speed_avg','speed_urban_avg']].copy()\n",
    "speed_data.head()"
   ]
  },
  {
   "cell_type": "markdown",
   "metadata": {
    "id": "TSx1QkeOVsIj"
   },
   "source": [
    "Υπολογισμός εκατοστημορίων (25%, 50% (διάμεσος), 75%), αριθμητικού μέσου, ελάχιστης-μέγιστης τιμής, εύρος τιμών, ενδοτεταρτημοριακού εύρους, διακύμανσης, τυπικής απόκλισης, συντελεστή μεταβλητότητας της μέσης ταχύτητας της διαδρομής"
   ]
  },
  {
   "cell_type": "code",
   "execution_count": 4,
   "metadata": {
    "id": "FAge-DosNi3c"
   },
   "outputs": [],
   "source": [
    "#Εκατοστημόρια\n",
    "quantiles = speed_data['speed_avg'].quantile([0.25, 0.5, 0.75])\n",
    "\n",
    "# Αριθμητικός μέσος\n",
    "mean = speed_data['speed_avg'].mean()\n",
    "\n",
    "# Ελάχιστη and Μέγιστη τιμή\n",
    "min_val = speed_data['speed_avg'].min()\n",
    "max_val = speed_data['speed_avg'].max()\n",
    "\n",
    "# Εύρος\n",
    "range_val = speed_data['speed_avg'].max() - speed_data['speed_avg'].min()\n",
    "\n",
    "# Ενδοτεταρτημοριακό εύρος\n",
    "q1 = speed_data['speed_avg'].quantile(0.25)\n",
    "q3 = speed_data['speed_avg'].quantile(0.75)\n",
    "iqr = q3 - q1\n",
    "\n",
    "# Διακύμανση\n",
    "variance = speed_data['speed_avg'].var()\n",
    "\n",
    "# Τυπική απόκλιση\n",
    "std_dev = speed_data['speed_avg'].std()\n",
    "\n",
    "# Συντελεστής μεταβλητότητας\n",
    "cv = (speed_data['speed_avg'].std() / speed_data['speed_avg'].mean()) * 100"
   ]
  },
  {
   "cell_type": "markdown",
   "metadata": {
    "id": "x6Q9l-I1XAVs"
   },
   "source": [
    "Εκτύπωση αποτελεσμάτων στο 3 δεκαδικό ψηφίο"
   ]
  },
  {
   "cell_type": "code",
   "execution_count": 5,
   "metadata": {
    "colab": {
     "base_uri": "https://localhost:8080/"
    },
    "id": "_Gz36WbVW-EW",
    "outputId": "553152a8-4581-4083-8cf9-051708f53057"
   },
   "outputs": [
    {
     "name": "stdout",
     "output_type": "stream",
     "text": [
      "- Εκατοστημόρια:\n",
      "0.25    28.675\n",
      "0.50    33.859\n",
      "0.75    45.282\n",
      "Name: speed_avg, dtype: float64\n",
      "- Μέση τιμή: 40.776\n",
      "- Ελάχιστη τιμή: 15.06\n",
      "- Μέγιστη τιμή: 122.601\n",
      "- Εύρος: 107.542\n",
      "- Ενδοτεταρτημοριακό εύρος: 16.607\n",
      "- Διακύμανση: 384.176\n",
      "- Τυπική απόκλιση: 19.6\n",
      "- Συντελεστής μεταβλητότητας: 48.068\n"
     ]
    }
   ],
   "source": [
    "print(\"- Εκατοστημόρια:\")\n",
    "print(quantiles.round(3))\n",
    "print(\"- Μέση τιμή:\", round(mean, 3))\n",
    "print(\"- Ελάχιστη τιμή:\", round(min_val, 3))\n",
    "print(\"- Μέγιστη τιμή:\", round(max_val, 3))\n",
    "print(\"- Εύρος:\", round(range_val, 3))\n",
    "print(\"- Ενδοτεταρτημοριακό εύρος:\", round(iqr, 3))\n",
    "print(\"- Διακύμανση:\", round(variance, 3))\n",
    "print(\"- Τυπική απόκλιση:\", round(std_dev, 3))\n",
    "print(\"- Συντελεστής μεταβλητότητας:\", round(cv, 3))"
   ]
  },
  {
   "cell_type": "markdown",
   "metadata": {
    "id": "hrxCB5vW4b1i"
   },
   "source": [
    "O υπολογισμός των εκατοστημορίων (25%, 50% (διάμεσος), 75%), αριθμητικού μέσου, ελάχιστης-μέγιστης τιμής και τυπικής απόκλισης της μέσης ταχύτητας της διαδρομής δύναται να υλοποιηθεί και μέσω της εντολής describe() "
   ]
  },
  {
   "cell_type": "code",
   "execution_count": 6,
   "metadata": {
    "colab": {
     "base_uri": "https://localhost:8080/"
    },
    "id": "M7VImdfk4cyr",
    "outputId": "e3529ccf-cf36-4dba-9031-6ce603d2c284"
   },
   "outputs": [
    {
     "data": {
      "text/plain": [
       "count    3524.000000\n",
       "mean       40.776157\n",
       "std        19.600408\n",
       "min        15.059732\n",
       "25%        28.674813\n",
       "50%        33.858974\n",
       "75%        45.281650\n",
       "max       122.601430\n",
       "Name: speed_avg, dtype: float64"
      ]
     },
     "execution_count": 6,
     "metadata": {},
     "output_type": "execute_result"
    }
   ],
   "source": [
    "speed_data['speed_avg'].describe()"
   ]
  },
  {
   "cell_type": "markdown",
   "metadata": {
    "id": "zSaNJNlpYZDX"
   },
   "source": [
    "Ιστόγραμμα της μέσης ταχύτητας ανά διαδρομή και αντίστοιχο διάγραμμα διακύμανσης"
   ]
  },
  {
   "cell_type": "code",
   "execution_count": 7,
   "metadata": {
    "colab": {
     "base_uri": "https://localhost:8080/",
     "height": 473
    },
    "id": "B5x8EO2FON1I",
    "outputId": "2ab3ede4-e511-423c-fb1f-861dbdda57e0"
   },
   "outputs": [
    {
     "data": {
      "image/png": "[encoded data removed]",
      "text/plain": [
       "<Figure size 640x480 with 1 Axes>"
      ]
     },
     "metadata": {},
     "output_type": "display_data"
    }
   ],
   "source": [
    "# Δημιουργία του ιστογράμματος\n",
    "plt.hist(speed_data['speed_avg'], bins=10, edgecolor='black', density=True, alpha=0.5)\n",
    "\n",
    "# Δημιουργία του γραφήματος διακύμνασης\n",
    "sns.kdeplot(speed_data['speed_avg'], color='red')\n",
    "\n",
    "# Προσθήκη ετικετών και τίτλου\n",
    "plt.xlabel('Τιμές')\n",
    "plt.ylabel('Συχνότητα')\n",
    "plt.title('Ιστόγραμμα και διακύμανση της μέσης ταχύτητας')\n",
    "\n",
    "# Εμφάνιση του γραφήματος\n",
    "plt.show()"
   ]
  },
  {
   "cell_type": "markdown",
   "metadata": {
    "id": "5zNsXCXNZVtY"
   },
   "source": [
    "Βασιζόμενοι στα αποτελέσματα που προκύπτουν από την ανάλυση των δεδομένων, μπορούμε να περιγράψουμε την κατανομή της μέσης ταχύτητας ταξιδιού των οδηγών που συμμετείχαν στο πείραμα. Η μέση τιμή είναι 40.776 km/h. Η ελάχιστη τιμή είναι 15.06 km/h και η μέγιστη τιμή είναι 122.601 km/h, με ένα εύρος των τιμών που φτάνει 107.542. Το ενδοτεταρτημοριακό εύρος, που υπολογίζεται από τη διαφορά μεταξύ του τρίτου και πρώτου τεταρτημορίου, είναι 16.607. Η διακύμανση των τιμών είναι 384.176, ενώ η τυπική απόκλιση είναι 19.6. Το γεγονός ότι ο συντελεστής μεταβλητότητας είναι 48.068 δείχνει μια σχετικά μεγάλη απόκλιση των τιμών από τη μέση τιμή τους. Οι τιμές του μέσου όρου και του διαμέσου έχουν σημαντική διαφορά, υποδεικνύοντας ότι η κατανομή του δείγματος ταχυτήτων δεν είναι συμμετρική. Το ίδιο διαφαίνεται και από το ιστόγραμμα που δημιουργήθηκε."
   ]
  },
  {
   "cell_type": "code",
   "execution_count": 8,
   "metadata": {},
   "outputs": [
    {
     "data": {
      "text/html": [
       "<div>\n",
       "<style scoped>\n",
       "    .dataframe tbody tr th:only-of-type {\n",
       "        vertical-align: middle;\n",
       "    }\n",
       "\n",
       "    .dataframe tbody tr th {\n",
       "        vertical-align: top;\n",
       "    }\n",
       "\n",
       "    .dataframe thead th {\n",
       "        text-align: right;\n",
       "    }\n",
       "</style>\n",
       "<table border=\"1\" class=\"dataframe\">\n",
       "  <thead>\n",
       "    <tr style=\"text-align: right;\">\n",
       "      <th></th>\n",
       "      <th>speed_avg</th>\n",
       "      <th>speed_urban_avg</th>\n",
       "    </tr>\n",
       "  </thead>\n",
       "  <tbody>\n",
       "    <tr>\n",
       "      <th>count</th>\n",
       "      <td>3524.000000</td>\n",
       "      <td>3524.000000</td>\n",
       "    </tr>\n",
       "    <tr>\n",
       "      <th>mean</th>\n",
       "      <td>40.776157</td>\n",
       "      <td>31.730438</td>\n",
       "    </tr>\n",
       "    <tr>\n",
       "      <th>std</th>\n",
       "      <td>19.600408</td>\n",
       "      <td>8.294246</td>\n",
       "    </tr>\n",
       "    <tr>\n",
       "      <th>min</th>\n",
       "      <td>15.059732</td>\n",
       "      <td>0.000000</td>\n",
       "    </tr>\n",
       "    <tr>\n",
       "      <th>25%</th>\n",
       "      <td>28.674813</td>\n",
       "      <td>26.333691</td>\n",
       "    </tr>\n",
       "    <tr>\n",
       "      <th>50%</th>\n",
       "      <td>33.858974</td>\n",
       "      <td>31.419029</td>\n",
       "    </tr>\n",
       "    <tr>\n",
       "      <th>75%</th>\n",
       "      <td>45.281650</td>\n",
       "      <td>36.212481</td>\n",
       "    </tr>\n",
       "    <tr>\n",
       "      <th>max</th>\n",
       "      <td>122.601430</td>\n",
       "      <td>77.939137</td>\n",
       "    </tr>\n",
       "  </tbody>\n",
       "</table>\n",
       "</div>"
      ],
      "text/plain": [
       "         speed_avg  speed_urban_avg\n",
       "count  3524.000000      3524.000000\n",
       "mean     40.776157        31.730438\n",
       "std      19.600408         8.294246\n",
       "min      15.059732         0.000000\n",
       "25%      28.674813        26.333691\n",
       "50%      33.858974        31.419029\n",
       "75%      45.281650        36.212481\n",
       "max     122.601430        77.939137"
      ]
     },
     "execution_count": 8,
     "metadata": {},
     "output_type": "execute_result"
    }
   ],
   "source": [
    "speed_data[['speed_avg','speed_urban_avg']].describe()"
   ]
  },
  {
   "cell_type": "code",
   "execution_count": 10,
   "metadata": {},
   "outputs": [
    {
     "data": {
      "image/png": "[encoded data removed]",
      "text/plain": [
       "<Figure size 640x480 with 1 Axes>"
      ]
     },
     "metadata": {},
     "output_type": "display_data"
    }
   ],
   "source": [
    "# Δημιουργία του ιστογράμματος\n",
    "plt.hist(speed_data[['speed_avg','speed_urban_avg']], bins=20, edgecolor='black', density=True, alpha=0.5)\n",
    "\n",
    "# Δημιουργία του γραφήματος διακύμνασης\n",
    "sns.kdeplot(speed_data['speed_avg'], color='red')\n",
    "\n",
    "# Προσθήκη ετικετών και τίτλου\n",
    "plt.xlabel('Τιμές')\n",
    "plt.ylabel('Συχνότητα')\n",
    "#plt.title('Ιστόγραμμα και διακύμανση της μέσης ταχύτητας')\n",
    "plt.legend(['speed_avg','speed_urban_avg'], frameon=False)\n",
    "# Εμφάνιση του γραφήματος\n",
    "plt.show()"
   ]
  },
  {
   "cell_type": "code",
   "execution_count": 11,
   "metadata": {},
   "outputs": [
    {
     "data": {
      "text/plain": [
       "<AxesSubplot:>"
      ]
     },
     "execution_count": 11,
     "metadata": {},
     "output_type": "execute_result"
    },
    {
     "data": {
      "image/png": "[encoded data removed]",
      "text/plain": [
       "<Figure size 640x480 with 1 Axes>"
      ]
     },
     "metadata": {},
     "output_type": "display_data"
    }
   ],
   "source": [
    "speed_data[['speed_avg','speed_urban_avg']].boxplot()"
   ]
  },
  {
   "cell_type": "markdown",
   "metadata": {
    "id": "To6ujWgSZBwH"
   },
   "source": [
    "# EXAMPLE 3.2"
   ]
  },
  {
   "cell_type": "markdown",
   "metadata": {
    "id": "HUgEoyYPd6hU"
   },
   "source": [
    "Υπολογισμός ασυμμετρίας και κύρτωσης της κατανομής της μέσης ταχύτητας"
   ]
  },
  {
   "cell_type": "code",
   "execution_count": 12,
   "metadata": {
    "id": "UGJHsXZIZIAD"
   },
   "outputs": [],
   "source": [
    "# Υπολογισμός ασυμμετρίας και κύρτωσης \n",
    "skewness = speed_data[['speed_avg','speed_urban_avg']].skew()\n",
    "kurtosis = speed_data[['speed_avg','speed_urban_avg']].kurtosis()"
   ]
  },
  {
   "cell_type": "markdown",
   "metadata": {
    "id": "CUsWtKp0eHXO"
   },
   "source": [
    "Εκτύπωση αποτελεσμάτων ασυμμετρίας και κύρτωσης της κατανομής της μέσης ταχύτητας"
   ]
  },
  {
   "cell_type": "code",
   "execution_count": 13,
   "metadata": {
    "colab": {
     "base_uri": "https://localhost:8080/"
    },
    "id": "GxLH8qWheBnh",
    "outputId": "03090b83-68d1-4b25-c38f-79fabb405148"
   },
   "outputs": [
    {
     "name": "stdout",
     "output_type": "stream",
     "text": [
      "Ασυμμετρία: speed_avg          1.641\n",
      "speed_urban_avg    0.563\n",
      "dtype: float64\n",
      "Κύρτωση: speed_avg          2.195\n",
      "speed_urban_avg    2.405\n",
      "dtype: float64\n"
     ]
    }
   ],
   "source": [
    "print(\"Ασυμμετρία:\", round(skewness, 3))\n",
    "print(\"Κύρτωση:\", round(kurtosis, 3))"
   ]
  },
  {
   "cell_type": "markdown",
   "metadata": {
    "id": "ocdyIbdmfAS0"
   },
   "source": [
    "Με βάση τα αποτελέσματα της ασυμμετρίας και της κύρτωσης της κατανομής της μέσης ταχύτητας διαδρομής, συμπεραίνεται ότι η κατανομή έχει θετική ασυμμετρία και είναι λεπτόκυρτη."
   ]
  },
  {
   "cell_type": "markdown",
   "metadata": {
    "id": "Bg8NTuhhfpqO"
   },
   "source": [
    "# EXAMPLE 3.3"
   ]
  },
  {
   "cell_type": "markdown",
   "metadata": {
    "id": "wO0pdznpkoU9"
   },
   "source": [
    "Για το παράδειγμα αυτό χρησιμοποιούμε μια βάση δεδομένων που περιέχει την εβδομαδιαία εξέλιξη της τιμής της αμόλυβδης βενζίνης και του συνολικού αριθμού των ακυρώσεων εισιτηρίων στο μετρό. Διαβάζουμε το αρχείο scv και αποθηκεύουμε τα δεδομένα σε ένα DataFrame με το όνομα \"fuel_data\"."
   ]
  },
  {
   "cell_type": "code",
   "execution_count": 14,
   "metadata": {
    "colab": {
     "base_uri": "https://localhost:8080/",
     "height": 206
    },
    "id": "No61-MwZfvM2",
    "outputId": "53ed13e1-8fbc-474f-ca24-47af0b67923e"
   },
   "outputs": [
    {
     "data": {
      "text/html": [
       "<div>\n",
       "<style scoped>\n",
       "    .dataframe tbody tr th:only-of-type {\n",
       "        vertical-align: middle;\n",
       "    }\n",
       "\n",
       "    .dataframe tbody tr th {\n",
       "        vertical-align: top;\n",
       "    }\n",
       "\n",
       "    .dataframe thead th {\n",
       "        text-align: right;\n",
       "    }\n",
       "</style>\n",
       "<table border=\"1\" class=\"dataframe\">\n",
       "  <thead>\n",
       "    <tr style=\"text-align: right;\">\n",
       "      <th></th>\n",
       "      <th>week22</th>\n",
       "      <th>avg_fuel_attica</th>\n",
       "      <th>tot_metro_valid</th>\n",
       "    </tr>\n",
       "  </thead>\n",
       "  <tbody>\n",
       "    <tr>\n",
       "      <th>0</th>\n",
       "      <td>1</td>\n",
       "      <td>1.7182</td>\n",
       "      <td>2341596</td>\n",
       "    </tr>\n",
       "    <tr>\n",
       "      <th>1</th>\n",
       "      <td>2</td>\n",
       "      <td>1.7348</td>\n",
       "      <td>4151463</td>\n",
       "    </tr>\n",
       "    <tr>\n",
       "      <th>2</th>\n",
       "      <td>3</td>\n",
       "      <td>1.7590</td>\n",
       "      <td>4439716</td>\n",
       "    </tr>\n",
       "    <tr>\n",
       "      <th>3</th>\n",
       "      <td>4</td>\n",
       "      <td>1.7796</td>\n",
       "      <td>2569046</td>\n",
       "    </tr>\n",
       "    <tr>\n",
       "      <th>4</th>\n",
       "      <td>5</td>\n",
       "      <td>1.8100</td>\n",
       "      <td>4584155</td>\n",
       "    </tr>\n",
       "  </tbody>\n",
       "</table>\n",
       "</div>"
      ],
      "text/plain": [
       "   week22  avg_fuel_attica  tot_metro_valid\n",
       "0       1           1.7182          2341596\n",
       "1       2           1.7348          4151463\n",
       "2       3           1.7590          4439716\n",
       "3       4           1.7796          2569046\n",
       "4       5           1.8100          4584155"
      ]
     },
     "execution_count": 14,
     "metadata": {},
     "output_type": "execute_result"
    }
   ],
   "source": [
    "valid_data = pd.read_csv('qm_validations.csv',delimiter=\";\")\n",
    "df=valid_data[['avg_fuel_attica','tot_metro_valid']]\n",
    "valid_data.head()"
   ]
  },
  {
   "cell_type": "markdown",
   "metadata": {
    "id": "sPsN6xLCppdn"
   },
   "source": []
  },
  {
   "cell_type": "markdown",
   "metadata": {
    "id": "ZBABki43qOKW"
   },
   "source": [
    "Δημιουργία διαγράμματος διασποράς της μέσης τιμής αμόλυβδης βενζίνης και του συνολικού αριθμού των ακυρώσεων εισιτηρίων στο μετρό."
   ]
  },
  {
   "cell_type": "code",
   "execution_count": 15,
   "metadata": {
    "colab": {
     "base_uri": "https://localhost:8080/",
     "height": 473
    },
    "id": "lqrT5ilMp2we",
    "outputId": "c2647c4c-b2ef-468c-cf32-785060dc5763"
   },
   "outputs": [
    {
     "data": {
      "image/png": "[encoded data removed]",
      "text/plain": [
       "<Figure size 640x480 with 1 Axes>"
      ]
     },
     "metadata": {},
     "output_type": "display_data"
    }
   ],
   "source": [
    "# Διάγραμμα διασποράς\n",
    "plt.scatter(df['avg_fuel_attica'], df['tot_metro_valid'])\n",
    "plt.xlabel('Μέση τιμή αμόλυβδης 95')\n",
    "plt.ylabel('Ημερήσιες ακυρώσεις εισιτηρίων στο Μετρό')\n",
    "\n",
    "plt.show()"
   ]
  },
  {
   "cell_type": "markdown",
   "metadata": {
    "id": "YkwGgqjZqnQR"
   },
   "source": [
    "Υπολογισμός συντελεστή συσχέτισης Pearson και εκτύπωση της τιμής"
   ]
  },
  {
   "cell_type": "code",
   "execution_count": 16,
   "metadata": {
    "colab": {
     "base_uri": "https://localhost:8080/"
    },
    "id": "5VVa5OW9mzd_",
    "outputId": "62b3e662-0934-43fb-c60b-5d2be5b416fe"
   },
   "outputs": [
    {
     "name": "stdout",
     "output_type": "stream",
     "text": [
      "                 avg_fuel_attica  tot_metro_valid\n",
      "avg_fuel_attica         1.000000         0.648973\n",
      "tot_metro_valid         0.648973         1.000000\n"
     ]
    }
   ],
   "source": [
    "# Υπολογισμός συντελεστή συσχέτισης Pearson\n",
    "pcor=df.corr(method ='pearson')\n",
    "# Εκτύπωση αποτελεσμάτων\n",
    "print(pcor)"
   ]
  },
  {
   "cell_type": "markdown",
   "metadata": {
    "id": "isGZoHR6rPTU"
   },
   "source": [
    "Με βάση τα αποτελέσματα παρατηρούμε μια ασθενή θετική συσχέτιση της μέσης τιμής καυσίμου και των επιβατών του Μετρό. Επιπλέον, το ίδιο υποδηλώνει και ο συντελεστής Pearson με τιμή 0,649. Τα αποτελέσματα είναι λογικά, καθώς είναι αναμενόμενο όσο αυξάνεται η μέση τιμή αμόλυβδης βενζίνης μιας περιοχής, αυτό θα έχει μία σχετικά αυξητική επιρροή στον αριθμού των ακυρώσεων εισιτηρίων στο μετρό.\n",
    "\n",
    "Θα πρέπει να σημειωθεί ότι ο συντελεστής συσχέτησης κατά Pearson υποθέτει ότι οι μεταβλητές είναι κανονικά κατανεμημένες. Για να ελέγξουμε το παραπάνω, δημιουργούμε τα διαγράμματα Normal QQplot που συγκρίνει τα ποσοστιαία σημεία των δεδομένων μιας μεταβλητής με την κανονική κατανομή. Αν τα δεδομένα μασ είναι κανονικά κατανεμημένα, θα τοποθετούνται πάνω σε μία ευθεία γραμμή. "
   ]
  },
  {
   "cell_type": "code",
   "execution_count": 17,
   "metadata": {},
   "outputs": [
    {
     "data": {
      "image/png": "[encoded data removed]",
      "text/plain": [
       "<Figure size 640x480 with 1 Axes>"
      ]
     },
     "metadata": {},
     "output_type": "display_data"
    },
    {
     "data": {
      "image/png": "[encoded data removed]",
      "text/plain": [
       "<Figure size 640x480 with 1 Axes>"
      ]
     },
     "metadata": {},
     "output_type": "display_data"
    }
   ],
   "source": [
    "import scipy.stats as stats\n",
    "import matplotlib.pyplot as plt\n",
    "stats.probplot(df['avg_fuel_attica'], dist=\"norm\", plot=plt)\n",
    "plt.show()\n",
    "\n",
    "stats.probplot(df['tot_metro_valid'], dist=\"norm\", plot=plt)\n",
    "plt.show()\n"
   ]
  },
  {
   "cell_type": "markdown",
   "metadata": {},
   "source": [
    "Παρατηρούμε ότι τα δεδομένα αποκλίνουν ελαφρώς από τη διαγώνιο, οπότε θεωρούμε ότι δεν είναι κανονικά κατανεμημένα. Στην περίπτωση αυτή ο υπολογισμός της συσχέτισης κατά Kendall ή Spearman είναι πιο σωστός."
   ]
  },
  {
   "cell_type": "code",
   "execution_count": 20,
   "metadata": {
    "scrolled": true
   },
   "outputs": [
    {
     "name": "stdout",
     "output_type": "stream",
     "text": [
      "None\n",
      "                 avg_fuel_attica  tot_metro_valid\n",
      "avg_fuel_attica         1.000000         0.415385\n",
      "tot_metro_valid         0.415385         1.000000\n",
      "                 avg_fuel_attica  tot_metro_valid\n",
      "avg_fuel_attica         1.000000         0.620513\n",
      "tot_metro_valid         0.620513         1.000000\n"
     ]
    }
   ],
   "source": [
    "# Υπολογισμός συντελεστή συσχέτισης Kendall tau\n",
    "kcor=df.corr(method ='kendall')\n",
    "# Υπολογισμός συντελεστή συσχέτισης Spearman\n",
    "scor=df.corr(method ='spearman')\n",
    "# Εκτύπωση αποτελεσμάτων\n",
    "pcor=print(pcor)\n",
    "kcor=print(kcor)\n",
    "scor=print(scor)"
   ]
  },
  {
   "cell_type": "markdown",
   "metadata": {},
   "source": [
    "Φαίνεται ότι η εκτίμηση του συντελεστή συσχέτισης κατά Kendall είναι πιο αυστηρή σε σχέση με αυτές κατά Pearson και Spearman."
   ]
  },
  {
   "cell_type": "markdown",
   "metadata": {
    "id": "tez2GxRGsosz"
   },
   "source": [
    "# EXAMPLE 3.4"
   ]
  },
  {
   "cell_type": "markdown",
   "metadata": {
    "id": "fnkRvWRK2wHZ"
   },
   "source": [
    "Το παράδειγμα αυτό αφορά τη διενέργεια στατιστικού τεστ με μηδενική υπόθεση ότι η μέση ταχύτητα διαδρομής ισούται με 40 km/h και εκτύπωση των σχετικών αποτελεσμάτων."
   ]
  },
  {
   "cell_type": "code",
   "execution_count": 21,
   "metadata": {
    "colab": {
     "base_uri": "https://localhost:8080/"
    },
    "id": "DLvmESMPs3sn",
    "outputId": "1e0a88a6-159e-4e4f-81d9-5a801da45baa"
   },
   "outputs": [
    {
     "name": "stdout",
     "output_type": "stream",
     "text": [
      "Στατιστικό τεστ: 2.351\n",
      "Τιμή p-value: 0.01879153520947247\n"
     ]
    }
   ],
   "source": [
    "# Στατιστικό τεστ για μέσης ταχύτητα 40 km/h\n",
    "population_mean = 40 #km/h\n",
    "\n",
    "# Εξαγωγή της στήλης ως πίνακα numpy\n",
    "column_data = data['speed_avg'].values\n",
    "\n",
    "# Εκτέλεση t-test ενός δείγματος\n",
    "t_statistic, p_value = ttest_1samp(column_data, population_mean)\n",
    "\n",
    "#Εκτύπωση αποτελεσμάτων\n",
    "print(\"Στατιστικό τεστ:\", round(t_statistic,3))\n",
    "print(\"Τιμή p-value:\", p_value)"
   ]
  },
  {
   "cell_type": "markdown",
   "metadata": {
    "id": "InEI6m9S5Oxk"
   },
   "source": [
    "Δεδομένου ότι η απόλυτη τιμή του στατιστικού τεστ είναι μεγαλύτερη από 1.96, την κρίσιμη τιμή για έναν δίπλευρο έλεγχο με επίπεδο σημαντικότητας 5%, η μηδενική υπόθεση απορρίπτεται (όπως επίσης είναι ξεκάθαρο και από την τιμή του p-value). "
   ]
  },
  {
   "cell_type": "markdown",
   "metadata": {
    "id": "WyWig7538RN8"
   },
   "source": [
    "# EXAMPLE 3.5"
   ]
  },
  {
   "cell_type": "markdown",
   "metadata": {
    "id": "T2QuaBDdCybh"
   },
   "source": [
    "Υπολογίζεται το πραγματικό ποσοστό των διαδρομών που είχαν μέση ταχύτητα διαδρομής άνω των 70 km/h"
   ]
  },
  {
   "cell_type": "markdown",
   "metadata": {
    "colab": {
     "base_uri": "https://localhost:8080/"
    },
    "id": "E20Ssedp9P5R",
    "outputId": "01e742db-de0a-483b-95fe-32502cc002dc"
   },
   "source": []
  },
  {
   "cell_type": "code",
   "execution_count": 22,
   "metadata": {},
   "outputs": [
    {
     "name": "stdout",
     "output_type": "stream",
     "text": [
      "Ποσοστό τιμών άνω 70 km/h: 11.124 %\n"
     ]
    }
   ],
   "source": [
    "#Υπολογισμός του ποσοστού των διαδρομών άνω των 70 km/h\n",
    "percentage_above_70 = (data['speed_avg'] > 70).mean() * 100\n",
    "print(\"Ποσοστό τιμών άνω 70 km/h:\", round(percentage_above_70,3), \"%\")"
   ]
  },
  {
   "cell_type": "markdown",
   "metadata": {
    "id": "qDYR8ghJDIPw"
   },
   "source": [
    "Διενέργεια στατιστικού τεστ (έλεγχος για την αναλογία p) με μηδενική υπόθεση ότι το 20% των ταξιδιών έχει μέση ταχύτητα μεγαλύτερη από 70 km/h."
   ]
  },
  {
   "cell_type": "code",
   "execution_count": 24,
   "metadata": {
    "id": "Sf6MCc9L8Vcw"
   },
   "outputs": [],
   "source": [
    "statistic, p_value=proportions_ztest(count=0.2*len(data), nobs=len(data), value=0.1469)"
   ]
  },
  {
   "cell_type": "markdown",
   "metadata": {
    "id": "uxDFzFTBDhGO"
   },
   "source": [
    "Εκτύπωση αποτελεσμάτων"
   ]
  },
  {
   "cell_type": "code",
   "execution_count": 25,
   "metadata": {
    "colab": {
     "base_uri": "https://localhost:8080/"
    },
    "id": "CbCGkY9hBl3p",
    "outputId": "ca8876f1-db48-484a-da97-d3f056d7d62a"
   },
   "outputs": [
    {
     "name": "stdout",
     "output_type": "stream",
     "text": [
      "Στατιστική z: 7.88\n",
      "Τιμή p-value: 0.0\n"
     ]
    }
   ],
   "source": [
    "print(\"Στατιστική z:\", round(statistic,3))\n",
    "print(\"Τιμή p-value:\", round(p_value,3))"
   ]
  },
  {
   "cell_type": "markdown",
   "metadata": {
    "id": "ezo0G_lOBavc"
   },
   "source": [
    "Δεδομένου ότι η απόλυτη τιμή του στατιστικού τεστ = 7.88 (έλεγχος για την αναλογία p) είναι μεγαλύτερη από 1.96, την κρίσιμη τιμή για έναν έλεγχο με δύο ουρές σε επίπεδο σημαντικότητας 5%, η μηδενική υπόθεση απορρίπτεται. Συνεπώς, υπάρχουν επαρκή στοιχεία για να συμπεράνουμε ότι το ποσοστό των διαδρομών που η μέση ταχύτητα είναι μεγαλύτερη των 70 km/h δεν είναι 20% βασιζόμενοι στην υπάρχουσα βάση δεδομένων."
   ]
  },
  {
   "cell_type": "markdown",
   "metadata": {
    "id": "viw4XlxjEZWu"
   },
   "source": [
    "# EXAMPLE 3.6"
   ]
  },
  {
   "cell_type": "markdown",
   "metadata": {
    "id": "lT3Co7NOK20Q"
   },
   "source": [
    "Επιλογή δύο οδηγών για σύγκριση των μέσων όρων των ταχυτήτων των διαδρομών τους και εκτύπωση του αριθμού των διαδρομών"
   ]
  },
  {
   "cell_type": "code",
   "execution_count": 26,
   "metadata": {
    "colab": {
     "base_uri": "https://localhost:8080/"
    },
    "id": "vG_KCvIrEeq2",
    "outputId": "ed0db28b-b71d-45c9-9dc5-57df3dd85cf2"
   },
   "outputs": [
    {
     "name": "stdout",
     "output_type": "stream",
     "text": [
      "Διαδρομές του οδηγού 1: 671\n",
      "Διαδρομές του οδηγού 2: 608\n",
      "Μέσος όρος οδηγού 1: 40.01745633599062\n",
      "Μέσος όρος οδηγού 2: 27.893636828877288\n",
      "Διακύμανση οδηγού 1: 466.36617943075686\n",
      "Διακύμανση οδηγού 2: 76.18255556718383\n"
     ]
    }
   ],
   "source": [
    "#Επιλογή 2 οδηγών με αρκετά ταξίδια\n",
    "driver1=data[data['identifier']=='ecodriver043']\n",
    "driver2=data[data['identifier']=='ecodriver027']\n",
    "\n",
    "# Αριθμητικός μέσος ΄όρος και διακύμανση\n",
    "mean1 = driver1['speed_avg'].mean()\n",
    "mean2 = driver2['speed_avg'].mean()\n",
    "var1 = driver1['speed_avg'].var()\n",
    "var2 = driver2['speed_avg'].var()\n",
    "\n",
    "# Εκτύπωση των αριθμών των ταξιδιών του εκάστοτε οδηγού\n",
    "print(\"Διαδρομές του οδηγού 1:\", len(driver1))\n",
    "print(\"Διαδρομές του οδηγού 2:\", len(driver2))\n",
    "print(\"Μέσος όρος οδηγού 1:\",mean1)\n",
    "print(\"Μέσος όρος οδηγού 2:\",mean2)\n",
    "print(\"Διακύμανση οδηγού 1:\",var1)\n",
    "print(\"Διακύμανση οδηγού 2:\",var2)\n"
   ]
  },
  {
   "cell_type": "markdown",
   "metadata": {
    "id": "LOxWxkWKLlk4"
   },
   "source": [
    "Διενέργεια στατιστικού τεστ για τους μέσους όρους των δύο οδηγών"
   ]
  },
  {
   "cell_type": "code",
   "execution_count": 28,
   "metadata": {
    "id": "f0HPzEnq7eLR"
   },
   "outputs": [],
   "source": [
    "# Υπολογισμός στατιστικού ελέγχου και της τιμής p-value\n",
    "test_statistic, p_value = stats.ttest_ind(driver1['speed_avg'], driver2['speed_avg'])"
   ]
  },
  {
   "cell_type": "markdown",
   "metadata": {
    "id": "tuvep_Ye8mQb"
   },
   "source": [
    "Εκτύπωση αποτελεσμάτων"
   ]
  },
  {
   "cell_type": "code",
   "execution_count": 29,
   "metadata": {
    "colab": {
     "base_uri": "https://localhost:8080/"
    },
    "id": "IlgOTc2A8ZMj",
    "outputId": "d46360af-ccf8-424a-95d8-95f7aa6262c2"
   },
   "outputs": [
    {
     "name": "stdout",
     "output_type": "stream",
     "text": [
      "Στατιστικό τεστ: 12.919\n",
      "Τιμή p-value: 0.0\n"
     ]
    }
   ],
   "source": [
    "print(\"Στατιστικό τεστ:\", round(test_statistic,3))\n",
    "print(\"Τιμή p-value:\", round(p_value,3))"
   ]
  },
  {
   "cell_type": "markdown",
   "metadata": {
    "id": "1bwkzNiqODnu"
   },
   "source": [
    "Το t-statistic είναι μεγαλύτερο από 1,96, την κρίσιμη τιμή για έναν δίπλευρο έλεγχο σε επίπεδο σημαντικότητας 5%, και έτσι η μηδενική υπόθεση απορρίπτεται. Το αποτέλεσμα αυτό δείχνει ότι η μέση ταχύτητα των διαδρομών του οδηγού 1 είναι διαφορετική από του οδηγού 2 και αυτή η διαφορά δεν είναι πιθανό να προέκυψε τυχαία."
   ]
  },
  {
   "cell_type": "markdown",
   "metadata": {
    "id": "fRem_ViEMgOA"
   },
   "source": [
    "Υπολογισμός Διαστήματος Εμπιστοσύνης"
   ]
  },
  {
   "cell_type": "code",
   "execution_count": 30,
   "metadata": {
    "colab": {
     "base_uri": "https://localhost:8080/"
    },
    "id": "Mng1IfQx78Kk",
    "outputId": "cfc1fd8c-e697-4fe6-e81e-2ba4bec1825a"
   },
   "outputs": [
    {
     "name": "stdout",
     "output_type": "stream",
     "text": [
      "Διάστημα εμπιστοσύνης: (10.348298959960024, 13.899340054266647)\n"
     ]
    }
   ],
   "source": [
    "import scipy.stats as stats\n",
    "\n",
    "# Ορισμός του επιθυμητού επιπέδου εμπιστοσύνης (π.χ. 95%)\n",
    "confidence_level = 0.95\n",
    "alpha = 1 - confidence_level\n",
    "\n",
    "# Υπολογισμός των βαθμών ελευθερίας\n",
    "df = len(driver1['speed_avg']) + len(driver2['speed_avg']) - 2\n",
    "\n",
    "# Υπολογισμός τυπικού σφάλματος\n",
    "std_error = np.sqrt((np.var(driver1['speed_avg']) / len(driver1['speed_avg'])) +\n",
    "                    (np.var(driver2['speed_avg']) / len(driver2['speed_avg'])))\n",
    "\n",
    "# Υπολογισμός του περιθωρίου σφάλματος\n",
    "margin_of_error = stats.t.ppf(1 - alpha / 2, df) * std_error\n",
    "\n",
    "# Μέση διαφορά\n",
    "mean_difference = np.mean(driver1['speed_avg']) - np.mean(driver2['speed_avg'])\n",
    "\n",
    "# Διάστημα εμπιστοσύνης\n",
    "confidence_interval = (mean_difference - margin_of_error, mean_difference + margin_of_error)\n",
    "\n",
    "# Εκτύπωση αποτελεσμάτων\n",
    "print(\"Διάστημα εμπιστοσύνης:\", confidence_interval)"
   ]
  },
  {
   "cell_type": "markdown",
   "metadata": {
    "id": "1AM6CcCbO7bd"
   },
   "source": [
    "Με επίπεδο εμπιστοσύνης 95% η διαφορά των μέσων ταχυτήτων των διαδρομών των δύο οδηγών είναι μεταξύ 10.348 και 13.899 km/h."
   ]
  }
 ],
 "metadata": {
  "colab": {
   "collapsed_sections": [
    "hlXPeUkaVIYG",
    "To6ujWgSZBwH",
    "Bg8NTuhhfpqO",
    "tez2GxRGsosz",
    "WyWig7538RN8",
    "viw4XlxjEZWu"
   ],
   "provenance": []
  },
  "kernelspec": {
   "display_name": "Python 3 (ipykernel)",
   "language": "python",
   "name": "python3"
  },
  "language_info": {
   "codemirror_mode": {
    "name": "ipython",
    "version": 3
   },
   "file_extension": ".py",
   "mimetype": "text/x-python",
   "name": "python",
   "nbconvert_exporter": "python",
   "pygments_lexer": "ipython3",
   "version": "3.9.13"
  }
 },
 "nbformat": 4,
 "nbformat_minor": 1
}
